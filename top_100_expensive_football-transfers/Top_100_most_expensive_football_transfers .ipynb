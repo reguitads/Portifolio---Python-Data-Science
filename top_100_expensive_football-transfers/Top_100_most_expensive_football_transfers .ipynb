{
  "nbformat": 4,
  "nbformat_minor": 0,
  "metadata": {
    "colab": {
      "provenance": []
    },
    "kernelspec": {
      "name": "python3",
      "display_name": "Python 3"
    },
    "language_info": {
      "name": "python"
    }
  },
  "cells": [
    {
      "cell_type": "markdown",
      "source": [
        "**Popular questions about Futebol**\n",
        "\n",
        "\n",
        "\n",
        "\n",
        "\n",
        "- Whats the soccer player most expensive all the times?\n",
        "\n",
        "  In the last 24 years, the most expensive transfer was for the futebol player Neymar\n",
        "\n",
        "- How many historical years, was did this study?\n",
        "\n",
        "  24 years, was the periods \n",
        "\n",
        "- How much the futebol club won with the negotiation?\n",
        "\n",
        "  The futebol club Monaco was on of the most won in transfers around this 24 years\n",
        "\n",
        "- What was the club, that most invest in futebol player in the history?\n",
        "\n",
        "  The futebol club, that most invested in transfers futebol players was Chelsea \n",
        "\n",
        "- Values by year invested all clubs together\n",
        "\n",
        "  The year 2019 was the year that most clubs expending money with new futebol player aquisitions, was 1318.90 (in million euro).\n"
      ],
      "metadata": {
        "id": "bCqKhDuGAoCk"
      }
    },
    {
      "cell_type": "code",
      "execution_count": 1,
      "metadata": {
        "id": "Cp3LP3Rs9JW1"
      },
      "outputs": [],
      "source": [
        "# import library\n",
        "from google import colab\n",
        "import pandas as pd\n",
        "import matplotlib.pyplot as plt\n",
        "import io"
      ]
    },
    {
      "cell_type": "code",
      "source": [
        "# Doing upload file\n",
        "file = colab.files.upload()"
      ],
      "metadata": {
        "colab": {
          "base_uri": "https://localhost:8080/",
          "height": 73
        },
        "id": "kwv2Hdg_99lj",
        "outputId": "8d759276-96e5-4b9b-aa96-724016dd5751"
      },
      "execution_count": 2,
      "outputs": [
        {
          "output_type": "display_data",
          "data": {
            "text/plain": [
              "<IPython.core.display.HTML object>"
            ],
            "text/html": [
              "\n",
              "     <input type=\"file\" id=\"files-c1ea1c83-04f5-49dd-9385-4c57d0e0a414\" name=\"files[]\" multiple disabled\n",
              "        style=\"border:none\" />\n",
              "     <output id=\"result-c1ea1c83-04f5-49dd-9385-4c57d0e0a414\">\n",
              "      Upload widget is only available when the cell has been executed in the\n",
              "      current browser session. Please rerun this cell to enable.\n",
              "      </output>\n",
              "      <script>// Copyright 2017 Google LLC\n",
              "//\n",
              "// Licensed under the Apache License, Version 2.0 (the \"License\");\n",
              "// you may not use this file except in compliance with the License.\n",
              "// You may obtain a copy of the License at\n",
              "//\n",
              "//      http://www.apache.org/licenses/LICENSE-2.0\n",
              "//\n",
              "// Unless required by applicable law or agreed to in writing, software\n",
              "// distributed under the License is distributed on an \"AS IS\" BASIS,\n",
              "// WITHOUT WARRANTIES OR CONDITIONS OF ANY KIND, either express or implied.\n",
              "// See the License for the specific language governing permissions and\n",
              "// limitations under the License.\n",
              "\n",
              "/**\n",
              " * @fileoverview Helpers for google.colab Python module.\n",
              " */\n",
              "(function(scope) {\n",
              "function span(text, styleAttributes = {}) {\n",
              "  const element = document.createElement('span');\n",
              "  element.textContent = text;\n",
              "  for (const key of Object.keys(styleAttributes)) {\n",
              "    element.style[key] = styleAttributes[key];\n",
              "  }\n",
              "  return element;\n",
              "}\n",
              "\n",
              "// Max number of bytes which will be uploaded at a time.\n",
              "const MAX_PAYLOAD_SIZE = 100 * 1024;\n",
              "\n",
              "function _uploadFiles(inputId, outputId) {\n",
              "  const steps = uploadFilesStep(inputId, outputId);\n",
              "  const outputElement = document.getElementById(outputId);\n",
              "  // Cache steps on the outputElement to make it available for the next call\n",
              "  // to uploadFilesContinue from Python.\n",
              "  outputElement.steps = steps;\n",
              "\n",
              "  return _uploadFilesContinue(outputId);\n",
              "}\n",
              "\n",
              "// This is roughly an async generator (not supported in the browser yet),\n",
              "// where there are multiple asynchronous steps and the Python side is going\n",
              "// to poll for completion of each step.\n",
              "// This uses a Promise to block the python side on completion of each step,\n",
              "// then passes the result of the previous step as the input to the next step.\n",
              "function _uploadFilesContinue(outputId) {\n",
              "  const outputElement = document.getElementById(outputId);\n",
              "  const steps = outputElement.steps;\n",
              "\n",
              "  const next = steps.next(outputElement.lastPromiseValue);\n",
              "  return Promise.resolve(next.value.promise).then((value) => {\n",
              "    // Cache the last promise value to make it available to the next\n",
              "    // step of the generator.\n",
              "    outputElement.lastPromiseValue = value;\n",
              "    return next.value.response;\n",
              "  });\n",
              "}\n",
              "\n",
              "/**\n",
              " * Generator function which is called between each async step of the upload\n",
              " * process.\n",
              " * @param {string} inputId Element ID of the input file picker element.\n",
              " * @param {string} outputId Element ID of the output display.\n",
              " * @return {!Iterable<!Object>} Iterable of next steps.\n",
              " */\n",
              "function* uploadFilesStep(inputId, outputId) {\n",
              "  const inputElement = document.getElementById(inputId);\n",
              "  inputElement.disabled = false;\n",
              "\n",
              "  const outputElement = document.getElementById(outputId);\n",
              "  outputElement.innerHTML = '';\n",
              "\n",
              "  const pickedPromise = new Promise((resolve) => {\n",
              "    inputElement.addEventListener('change', (e) => {\n",
              "      resolve(e.target.files);\n",
              "    });\n",
              "  });\n",
              "\n",
              "  const cancel = document.createElement('button');\n",
              "  inputElement.parentElement.appendChild(cancel);\n",
              "  cancel.textContent = 'Cancel upload';\n",
              "  const cancelPromise = new Promise((resolve) => {\n",
              "    cancel.onclick = () => {\n",
              "      resolve(null);\n",
              "    };\n",
              "  });\n",
              "\n",
              "  // Wait for the user to pick the files.\n",
              "  const files = yield {\n",
              "    promise: Promise.race([pickedPromise, cancelPromise]),\n",
              "    response: {\n",
              "      action: 'starting',\n",
              "    }\n",
              "  };\n",
              "\n",
              "  cancel.remove();\n",
              "\n",
              "  // Disable the input element since further picks are not allowed.\n",
              "  inputElement.disabled = true;\n",
              "\n",
              "  if (!files) {\n",
              "    return {\n",
              "      response: {\n",
              "        action: 'complete',\n",
              "      }\n",
              "    };\n",
              "  }\n",
              "\n",
              "  for (const file of files) {\n",
              "    const li = document.createElement('li');\n",
              "    li.append(span(file.name, {fontWeight: 'bold'}));\n",
              "    li.append(span(\n",
              "        `(${file.type || 'n/a'}) - ${file.size} bytes, ` +\n",
              "        `last modified: ${\n",
              "            file.lastModifiedDate ? file.lastModifiedDate.toLocaleDateString() :\n",
              "                                    'n/a'} - `));\n",
              "    const percent = span('0% done');\n",
              "    li.appendChild(percent);\n",
              "\n",
              "    outputElement.appendChild(li);\n",
              "\n",
              "    const fileDataPromise = new Promise((resolve) => {\n",
              "      const reader = new FileReader();\n",
              "      reader.onload = (e) => {\n",
              "        resolve(e.target.result);\n",
              "      };\n",
              "      reader.readAsArrayBuffer(file);\n",
              "    });\n",
              "    // Wait for the data to be ready.\n",
              "    let fileData = yield {\n",
              "      promise: fileDataPromise,\n",
              "      response: {\n",
              "        action: 'continue',\n",
              "      }\n",
              "    };\n",
              "\n",
              "    // Use a chunked sending to avoid message size limits. See b/62115660.\n",
              "    let position = 0;\n",
              "    do {\n",
              "      const length = Math.min(fileData.byteLength - position, MAX_PAYLOAD_SIZE);\n",
              "      const chunk = new Uint8Array(fileData, position, length);\n",
              "      position += length;\n",
              "\n",
              "      const base64 = btoa(String.fromCharCode.apply(null, chunk));\n",
              "      yield {\n",
              "        response: {\n",
              "          action: 'append',\n",
              "          file: file.name,\n",
              "          data: base64,\n",
              "        },\n",
              "      };\n",
              "\n",
              "      let percentDone = fileData.byteLength === 0 ?\n",
              "          100 :\n",
              "          Math.round((position / fileData.byteLength) * 100);\n",
              "      percent.textContent = `${percentDone}% done`;\n",
              "\n",
              "    } while (position < fileData.byteLength);\n",
              "  }\n",
              "\n",
              "  // All done.\n",
              "  yield {\n",
              "    response: {\n",
              "      action: 'complete',\n",
              "    }\n",
              "  };\n",
              "}\n",
              "\n",
              "scope.google = scope.google || {};\n",
              "scope.google.colab = scope.google.colab || {};\n",
              "scope.google.colab._files = {\n",
              "  _uploadFiles,\n",
              "  _uploadFilesContinue,\n",
              "};\n",
              "})(self);\n",
              "</script> "
            ]
          },
          "metadata": {}
        },
        {
          "output_type": "stream",
          "name": "stdout",
          "text": [
            "Saving dataset.csv to dataset.csv\n"
          ]
        }
      ]
    },
    {
      "cell_type": "code",
      "source": [
        "# Keep the data in variable\n",
        "df = pd.read_csv(io.BytesIO(file['dataset.csv']))"
      ],
      "metadata": {
        "id": "DEGQdXfn9TgB"
      },
      "execution_count": 3,
      "outputs": []
    },
    {
      "cell_type": "code",
      "source": [
        "# cheking the first 5 rows of the Dataframe \n",
        "df.head()"
      ],
      "metadata": {
        "colab": {
          "base_uri": "https://localhost:8080/",
          "height": 206
        },
        "id": "A2RExuV-R6qS",
        "outputId": "87383ef2-df59-46e2-ac6b-71b17ea2de24"
      },
      "execution_count": 26,
      "outputs": [
        {
          "output_type": "execute_result",
          "data": {
            "text/plain": [
              "   Pos.             Player  Year    Fee   From Club           To Club\n",
              "0     1             Neymar  2017  222.0  Barcelona                PSG\n",
              "1     2      Kylian Mbappe  2017  145.0     Monaco                PSG\n",
              "2     3         Joao Felix  2019  126.0    Benfica    Atletico Madrid\n",
              "3     4     Enzo Fernandez  2023  121.0    Benfica            Chelsea\n",
              "4     5  Philippe Coutinho  2018  120.0  Liverpool          Barcelona"
            ],
            "text/html": [
              "\n",
              "  <div id=\"df-2401d055-52a1-4876-9eff-b4bac24d8aa2\">\n",
              "    <div class=\"colab-df-container\">\n",
              "      <div>\n",
              "<style scoped>\n",
              "    .dataframe tbody tr th:only-of-type {\n",
              "        vertical-align: middle;\n",
              "    }\n",
              "\n",
              "    .dataframe tbody tr th {\n",
              "        vertical-align: top;\n",
              "    }\n",
              "\n",
              "    .dataframe thead th {\n",
              "        text-align: right;\n",
              "    }\n",
              "</style>\n",
              "<table border=\"1\" class=\"dataframe\">\n",
              "  <thead>\n",
              "    <tr style=\"text-align: right;\">\n",
              "      <th></th>\n",
              "      <th>Pos.</th>\n",
              "      <th>Player</th>\n",
              "      <th>Year</th>\n",
              "      <th>Fee</th>\n",
              "      <th>From Club</th>\n",
              "      <th>To Club</th>\n",
              "    </tr>\n",
              "  </thead>\n",
              "  <tbody>\n",
              "    <tr>\n",
              "      <th>0</th>\n",
              "      <td>1</td>\n",
              "      <td>Neymar</td>\n",
              "      <td>2017</td>\n",
              "      <td>222.0</td>\n",
              "      <td>Barcelona</td>\n",
              "      <td>PSG</td>\n",
              "    </tr>\n",
              "    <tr>\n",
              "      <th>1</th>\n",
              "      <td>2</td>\n",
              "      <td>Kylian Mbappe</td>\n",
              "      <td>2017</td>\n",
              "      <td>145.0</td>\n",
              "      <td>Monaco</td>\n",
              "      <td>PSG</td>\n",
              "    </tr>\n",
              "    <tr>\n",
              "      <th>2</th>\n",
              "      <td>3</td>\n",
              "      <td>Joao Felix</td>\n",
              "      <td>2019</td>\n",
              "      <td>126.0</td>\n",
              "      <td>Benfica</td>\n",
              "      <td>Atletico Madrid</td>\n",
              "    </tr>\n",
              "    <tr>\n",
              "      <th>3</th>\n",
              "      <td>4</td>\n",
              "      <td>Enzo Fernandez</td>\n",
              "      <td>2023</td>\n",
              "      <td>121.0</td>\n",
              "      <td>Benfica</td>\n",
              "      <td>Chelsea</td>\n",
              "    </tr>\n",
              "    <tr>\n",
              "      <th>4</th>\n",
              "      <td>5</td>\n",
              "      <td>Philippe Coutinho</td>\n",
              "      <td>2018</td>\n",
              "      <td>120.0</td>\n",
              "      <td>Liverpool</td>\n",
              "      <td>Barcelona</td>\n",
              "    </tr>\n",
              "  </tbody>\n",
              "</table>\n",
              "</div>\n",
              "      <button class=\"colab-df-convert\" onclick=\"convertToInteractive('df-2401d055-52a1-4876-9eff-b4bac24d8aa2')\"\n",
              "              title=\"Convert this dataframe to an interactive table.\"\n",
              "              style=\"display:none;\">\n",
              "        \n",
              "  <svg xmlns=\"http://www.w3.org/2000/svg\" height=\"24px\"viewBox=\"0 0 24 24\"\n",
              "       width=\"24px\">\n",
              "    <path d=\"M0 0h24v24H0V0z\" fill=\"none\"/>\n",
              "    <path d=\"M18.56 5.44l.94 2.06.94-2.06 2.06-.94-2.06-.94-.94-2.06-.94 2.06-2.06.94zm-11 1L8.5 8.5l.94-2.06 2.06-.94-2.06-.94L8.5 2.5l-.94 2.06-2.06.94zm10 10l.94 2.06.94-2.06 2.06-.94-2.06-.94-.94-2.06-.94 2.06-2.06.94z\"/><path d=\"M17.41 7.96l-1.37-1.37c-.4-.4-.92-.59-1.43-.59-.52 0-1.04.2-1.43.59L10.3 9.45l-7.72 7.72c-.78.78-.78 2.05 0 2.83L4 21.41c.39.39.9.59 1.41.59.51 0 1.02-.2 1.41-.59l7.78-7.78 2.81-2.81c.8-.78.8-2.07 0-2.86zM5.41 20L4 18.59l7.72-7.72 1.47 1.35L5.41 20z\"/>\n",
              "  </svg>\n",
              "      </button>\n",
              "      \n",
              "  <style>\n",
              "    .colab-df-container {\n",
              "      display:flex;\n",
              "      flex-wrap:wrap;\n",
              "      gap: 12px;\n",
              "    }\n",
              "\n",
              "    .colab-df-convert {\n",
              "      background-color: #E8F0FE;\n",
              "      border: none;\n",
              "      border-radius: 50%;\n",
              "      cursor: pointer;\n",
              "      display: none;\n",
              "      fill: #1967D2;\n",
              "      height: 32px;\n",
              "      padding: 0 0 0 0;\n",
              "      width: 32px;\n",
              "    }\n",
              "\n",
              "    .colab-df-convert:hover {\n",
              "      background-color: #E2EBFA;\n",
              "      box-shadow: 0px 1px 2px rgba(60, 64, 67, 0.3), 0px 1px 3px 1px rgba(60, 64, 67, 0.15);\n",
              "      fill: #174EA6;\n",
              "    }\n",
              "\n",
              "    [theme=dark] .colab-df-convert {\n",
              "      background-color: #3B4455;\n",
              "      fill: #D2E3FC;\n",
              "    }\n",
              "\n",
              "    [theme=dark] .colab-df-convert:hover {\n",
              "      background-color: #434B5C;\n",
              "      box-shadow: 0px 1px 3px 1px rgba(0, 0, 0, 0.15);\n",
              "      filter: drop-shadow(0px 1px 2px rgba(0, 0, 0, 0.3));\n",
              "      fill: #FFFFFF;\n",
              "    }\n",
              "  </style>\n",
              "\n",
              "      <script>\n",
              "        const buttonEl =\n",
              "          document.querySelector('#df-2401d055-52a1-4876-9eff-b4bac24d8aa2 button.colab-df-convert');\n",
              "        buttonEl.style.display =\n",
              "          google.colab.kernel.accessAllowed ? 'block' : 'none';\n",
              "\n",
              "        async function convertToInteractive(key) {\n",
              "          const element = document.querySelector('#df-2401d055-52a1-4876-9eff-b4bac24d8aa2');\n",
              "          const dataTable =\n",
              "            await google.colab.kernel.invokeFunction('convertToInteractive',\n",
              "                                                     [key], {});\n",
              "          if (!dataTable) return;\n",
              "\n",
              "          const docLinkHtml = 'Like what you see? Visit the ' +\n",
              "            '<a target=\"_blank\" href=https://colab.research.google.com/notebooks/data_table.ipynb>data table notebook</a>'\n",
              "            + ' to learn more about interactive tables.';\n",
              "          element.innerHTML = '';\n",
              "          dataTable['output_type'] = 'display_data';\n",
              "          await google.colab.output.renderOutput(dataTable, element);\n",
              "          const docLink = document.createElement('div');\n",
              "          docLink.innerHTML = docLinkHtml;\n",
              "          element.appendChild(docLink);\n",
              "        }\n",
              "      </script>\n",
              "    </div>\n",
              "  </div>\n",
              "  "
            ]
          },
          "metadata": {},
          "execution_count": 26
        }
      ]
    },
    {
      "cell_type": "code",
      "source": [
        "# Cheking information of dataframe\n",
        "df.info()"
      ],
      "metadata": {
        "colab": {
          "base_uri": "https://localhost:8080/"
        },
        "id": "HsUP21O--G2u",
        "outputId": "352f53b6-32a7-44e1-88d0-cfa312aa06da"
      },
      "execution_count": 4,
      "outputs": [
        {
          "output_type": "stream",
          "name": "stdout",
          "text": [
            "<class 'pandas.core.frame.DataFrame'>\n",
            "RangeIndex: 102 entries, 0 to 101\n",
            "Data columns (total 6 columns):\n",
            " #   Column     Non-Null Count  Dtype \n",
            "---  ------     --------------  ----- \n",
            " 0   Pos.       102 non-null    int64 \n",
            " 1   Player     102 non-null    object\n",
            " 2   Year       102 non-null    int64 \n",
            " 3   Fee        102 non-null    object\n",
            " 4   From Club  102 non-null    object\n",
            " 5   To Club    102 non-null    object\n",
            "dtypes: int64(2), object(4)\n",
            "memory usage: 4.9+ KB\n"
          ]
        }
      ]
    },
    {
      "cell_type": "code",
      "source": [
        "# reading the first 5 rows\n",
        "df.head(5)"
      ],
      "metadata": {
        "colab": {
          "base_uri": "https://localhost:8080/",
          "height": 206
        },
        "id": "s2V4JcEH-Jmn",
        "outputId": "79769fe2-e9d6-4b36-ed1e-6f4a68cfdc2c"
      },
      "execution_count": 5,
      "outputs": [
        {
          "output_type": "execute_result",
          "data": {
            "text/plain": [
              "   Pos.             Player  Year            Fee   From Club           To Club\n",
              "0     1             Neymar  2017          €222m  Barcelona                PSG\n",
              "1     2      Kylian Mbappe  2017  €145m (+€35m)     Monaco                PSG\n",
              "2     3         Joao Felix  2019          €126m    Benfica    Atletico Madrid\n",
              "3     4     Enzo Fernandez  2023          €121m    Benfica            Chelsea\n",
              "4     5  Philippe Coutinho  2018  €120m (+€40m)  Liverpool          Barcelona"
            ],
            "text/html": [
              "\n",
              "  <div id=\"df-7d1bbdd5-8de1-48a7-85b2-8adeabb7e198\">\n",
              "    <div class=\"colab-df-container\">\n",
              "      <div>\n",
              "<style scoped>\n",
              "    .dataframe tbody tr th:only-of-type {\n",
              "        vertical-align: middle;\n",
              "    }\n",
              "\n",
              "    .dataframe tbody tr th {\n",
              "        vertical-align: top;\n",
              "    }\n",
              "\n",
              "    .dataframe thead th {\n",
              "        text-align: right;\n",
              "    }\n",
              "</style>\n",
              "<table border=\"1\" class=\"dataframe\">\n",
              "  <thead>\n",
              "    <tr style=\"text-align: right;\">\n",
              "      <th></th>\n",
              "      <th>Pos.</th>\n",
              "      <th>Player</th>\n",
              "      <th>Year</th>\n",
              "      <th>Fee</th>\n",
              "      <th>From Club</th>\n",
              "      <th>To Club</th>\n",
              "    </tr>\n",
              "  </thead>\n",
              "  <tbody>\n",
              "    <tr>\n",
              "      <th>0</th>\n",
              "      <td>1</td>\n",
              "      <td>Neymar</td>\n",
              "      <td>2017</td>\n",
              "      <td>€222m</td>\n",
              "      <td>Barcelona</td>\n",
              "      <td>PSG</td>\n",
              "    </tr>\n",
              "    <tr>\n",
              "      <th>1</th>\n",
              "      <td>2</td>\n",
              "      <td>Kylian Mbappe</td>\n",
              "      <td>2017</td>\n",
              "      <td>€145m (+€35m)</td>\n",
              "      <td>Monaco</td>\n",
              "      <td>PSG</td>\n",
              "    </tr>\n",
              "    <tr>\n",
              "      <th>2</th>\n",
              "      <td>3</td>\n",
              "      <td>Joao Felix</td>\n",
              "      <td>2019</td>\n",
              "      <td>€126m</td>\n",
              "      <td>Benfica</td>\n",
              "      <td>Atletico Madrid</td>\n",
              "    </tr>\n",
              "    <tr>\n",
              "      <th>3</th>\n",
              "      <td>4</td>\n",
              "      <td>Enzo Fernandez</td>\n",
              "      <td>2023</td>\n",
              "      <td>€121m</td>\n",
              "      <td>Benfica</td>\n",
              "      <td>Chelsea</td>\n",
              "    </tr>\n",
              "    <tr>\n",
              "      <th>4</th>\n",
              "      <td>5</td>\n",
              "      <td>Philippe Coutinho</td>\n",
              "      <td>2018</td>\n",
              "      <td>€120m (+€40m)</td>\n",
              "      <td>Liverpool</td>\n",
              "      <td>Barcelona</td>\n",
              "    </tr>\n",
              "  </tbody>\n",
              "</table>\n",
              "</div>\n",
              "      <button class=\"colab-df-convert\" onclick=\"convertToInteractive('df-7d1bbdd5-8de1-48a7-85b2-8adeabb7e198')\"\n",
              "              title=\"Convert this dataframe to an interactive table.\"\n",
              "              style=\"display:none;\">\n",
              "        \n",
              "  <svg xmlns=\"http://www.w3.org/2000/svg\" height=\"24px\"viewBox=\"0 0 24 24\"\n",
              "       width=\"24px\">\n",
              "    <path d=\"M0 0h24v24H0V0z\" fill=\"none\"/>\n",
              "    <path d=\"M18.56 5.44l.94 2.06.94-2.06 2.06-.94-2.06-.94-.94-2.06-.94 2.06-2.06.94zm-11 1L8.5 8.5l.94-2.06 2.06-.94-2.06-.94L8.5 2.5l-.94 2.06-2.06.94zm10 10l.94 2.06.94-2.06 2.06-.94-2.06-.94-.94-2.06-.94 2.06-2.06.94z\"/><path d=\"M17.41 7.96l-1.37-1.37c-.4-.4-.92-.59-1.43-.59-.52 0-1.04.2-1.43.59L10.3 9.45l-7.72 7.72c-.78.78-.78 2.05 0 2.83L4 21.41c.39.39.9.59 1.41.59.51 0 1.02-.2 1.41-.59l7.78-7.78 2.81-2.81c.8-.78.8-2.07 0-2.86zM5.41 20L4 18.59l7.72-7.72 1.47 1.35L5.41 20z\"/>\n",
              "  </svg>\n",
              "      </button>\n",
              "      \n",
              "  <style>\n",
              "    .colab-df-container {\n",
              "      display:flex;\n",
              "      flex-wrap:wrap;\n",
              "      gap: 12px;\n",
              "    }\n",
              "\n",
              "    .colab-df-convert {\n",
              "      background-color: #E8F0FE;\n",
              "      border: none;\n",
              "      border-radius: 50%;\n",
              "      cursor: pointer;\n",
              "      display: none;\n",
              "      fill: #1967D2;\n",
              "      height: 32px;\n",
              "      padding: 0 0 0 0;\n",
              "      width: 32px;\n",
              "    }\n",
              "\n",
              "    .colab-df-convert:hover {\n",
              "      background-color: #E2EBFA;\n",
              "      box-shadow: 0px 1px 2px rgba(60, 64, 67, 0.3), 0px 1px 3px 1px rgba(60, 64, 67, 0.15);\n",
              "      fill: #174EA6;\n",
              "    }\n",
              "\n",
              "    [theme=dark] .colab-df-convert {\n",
              "      background-color: #3B4455;\n",
              "      fill: #D2E3FC;\n",
              "    }\n",
              "\n",
              "    [theme=dark] .colab-df-convert:hover {\n",
              "      background-color: #434B5C;\n",
              "      box-shadow: 0px 1px 3px 1px rgba(0, 0, 0, 0.15);\n",
              "      filter: drop-shadow(0px 1px 2px rgba(0, 0, 0, 0.3));\n",
              "      fill: #FFFFFF;\n",
              "    }\n",
              "  </style>\n",
              "\n",
              "      <script>\n",
              "        const buttonEl =\n",
              "          document.querySelector('#df-7d1bbdd5-8de1-48a7-85b2-8adeabb7e198 button.colab-df-convert');\n",
              "        buttonEl.style.display =\n",
              "          google.colab.kernel.accessAllowed ? 'block' : 'none';\n",
              "\n",
              "        async function convertToInteractive(key) {\n",
              "          const element = document.querySelector('#df-7d1bbdd5-8de1-48a7-85b2-8adeabb7e198');\n",
              "          const dataTable =\n",
              "            await google.colab.kernel.invokeFunction('convertToInteractive',\n",
              "                                                     [key], {});\n",
              "          if (!dataTable) return;\n",
              "\n",
              "          const docLinkHtml = 'Like what you see? Visit the ' +\n",
              "            '<a target=\"_blank\" href=https://colab.research.google.com/notebooks/data_table.ipynb>data table notebook</a>'\n",
              "            + ' to learn more about interactive tables.';\n",
              "          element.innerHTML = '';\n",
              "          dataTable['output_type'] = 'display_data';\n",
              "          await google.colab.output.renderOutput(dataTable, element);\n",
              "          const docLink = document.createElement('div');\n",
              "          docLink.innerHTML = docLinkHtml;\n",
              "          element.appendChild(docLink);\n",
              "        }\n",
              "      </script>\n",
              "    </div>\n",
              "  </div>\n",
              "  "
            ]
          },
          "metadata": {},
          "execution_count": 5
        }
      ]
    },
    {
      "cell_type": "code",
      "source": [
        "# checking column 'Fee' unique value \n",
        "df['Fee'].unique()"
      ],
      "metadata": {
        "colab": {
          "base_uri": "https://localhost:8080/"
        },
        "id": "1zi4Xrtt-P8Y",
        "outputId": "68f3f5b8-684e-48df-b8be-1b7e5bfb9262"
      },
      "execution_count": 6,
      "outputs": [
        {
          "output_type": "execute_result",
          "data": {
            "text/plain": [
              "array(['€222m', '€145m (+€35m)', '€126m', '€121m', '€120m (+€40m)',\n",
              "       '€120m', '€117m', '€115m', '€105m (+€45m)', '€105m', '€100.8m',\n",
              "       '€100m', '€100m (+€40m)', '€95m (+€5m)', '€94m', '€90m', '€87.1m',\n",
              "       '€86.2m', '€85m', '€84.8m', '€84.5m', '€82.3m', '€80.6m',\n",
              "       '€80m (+€20m)', '€80m', '€79m', '€78.9m', '€77.5m', '€75m (+€25m)',\n",
              "       '€75m (+€10.5m)', '€75m', '€74.6m', '€73m', '€72m\\xa0(+€10m)',\n",
              "       '€71m (+€11.8m)', '€70m (+€9m)', '€70m', '€70m (+€30m)', '€69.5m',\n",
              "       '€69.1m', '€68m (+€3.6m)', '€67.8m', '€67m (+€10m)', '€66m',\n",
              "       '€65.1m (+€8.2m)', '€65m (+€5m)', '€65m', '€65m (inc. Danilo)',\n",
              "       '€64.5m', '€64m', '€63.75m', '€62.5m', '€61.6m', '€60.3m',\n",
              "       '€60m\\xa0(+€11m)', '€60m\\xa0(+€5m)', '€60m', '€59m (+€6m)', '€59m',\n",
              "       '€58.9m', '€58.6m', '€58.2m', '€58m (+€12m)', '€58m', '€56.7m',\n",
              "       '€56.2m', '€55.8m', '€55.3m (+€12.5m)', '€55m (+€25m)', '€55m',\n",
              "       '€53m (+€7m)', '€53m', '€52.3m', '€52m', '€51.7m', '€50m (+€10m)',\n",
              "       '€50m', '€49.3m', '€49.2m', '€49m (+€11m)', '€49m'], dtype=object)"
            ]
          },
          "metadata": {},
          "execution_count": 6
        }
      ]
    },
    {
      "cell_type": "code",
      "source": [
        "# modify data columns 'Fee'\n",
        "df['Fee'] = df['Fee'].str.replace(r'\\(.*\\)', '').str.replace('€', '').str.replace('m', '')\n",
        "df['Fee'] = df['Fee'].str.strip()\n",
        "df['Fee'] = pd.to_numeric(df['Fee'])"
      ],
      "metadata": {
        "colab": {
          "base_uri": "https://localhost:8080/"
        },
        "id": "IsvimoyGDDnV",
        "outputId": "5914b6c1-512a-4768-d3f3-174d729084f5"
      },
      "execution_count": 7,
      "outputs": [
        {
          "output_type": "stream",
          "name": "stderr",
          "text": [
            "<ipython-input-7-0fd5d4e9b7b3>:2: FutureWarning: The default value of regex will change from True to False in a future version.\n",
            "  df['Fee'] = df['Fee'].str.replace(r'\\(.*\\)', '').str.replace('€', '').str.replace('m', '')\n"
          ]
        }
      ]
    },
    {
      "cell_type": "code",
      "source": [
        "# checking the modification\n",
        "df['Fee'].unique()"
      ],
      "metadata": {
        "colab": {
          "base_uri": "https://localhost:8080/"
        },
        "id": "DAI1fhzfEwXn",
        "outputId": "8fed5e7c-7322-4a0f-af07-bf6ba70c2adf"
      },
      "execution_count": 8,
      "outputs": [
        {
          "output_type": "execute_result",
          "data": {
            "text/plain": [
              "array([222.  , 145.  , 126.  , 121.  , 120.  , 117.  , 115.  , 105.  ,\n",
              "       100.8 , 100.  ,  95.  ,  94.  ,  90.  ,  87.1 ,  86.2 ,  85.  ,\n",
              "        84.8 ,  84.5 ,  82.3 ,  80.6 ,  80.  ,  79.  ,  78.9 ,  77.5 ,\n",
              "        75.  ,  74.6 ,  73.  ,  72.  ,  71.  ,  70.  ,  69.5 ,  69.1 ,\n",
              "        68.  ,  67.8 ,  67.  ,  66.  ,  65.1 ,  65.  ,  64.5 ,  64.  ,\n",
              "        63.75,  62.5 ,  61.6 ,  60.3 ,  60.  ,  59.  ,  58.9 ,  58.6 ,\n",
              "        58.2 ,  58.  ,  56.7 ,  56.2 ,  55.8 ,  55.3 ,  55.  ,  53.  ,\n",
              "        52.3 ,  52.  ,  51.7 ,  50.  ,  49.3 ,  49.2 ,  49.  ])"
            ]
          },
          "metadata": {},
          "execution_count": 8
        }
      ]
    },
    {
      "cell_type": "code",
      "source": [
        "# checking data information, modified\n",
        "df.info()"
      ],
      "metadata": {
        "colab": {
          "base_uri": "https://localhost:8080/"
        },
        "id": "gx43LV3dFddw",
        "outputId": "7361f9c1-a0fc-48ed-8377-6d1aa0a9050f"
      },
      "execution_count": 9,
      "outputs": [
        {
          "output_type": "stream",
          "name": "stdout",
          "text": [
            "<class 'pandas.core.frame.DataFrame'>\n",
            "RangeIndex: 102 entries, 0 to 101\n",
            "Data columns (total 6 columns):\n",
            " #   Column     Non-Null Count  Dtype  \n",
            "---  ------     --------------  -----  \n",
            " 0   Pos.       102 non-null    int64  \n",
            " 1   Player     102 non-null    object \n",
            " 2   Year       102 non-null    int64  \n",
            " 3   Fee        102 non-null    float64\n",
            " 4   From Club  102 non-null    object \n",
            " 5   To Club    102 non-null    object \n",
            "dtypes: float64(1), int64(2), object(3)\n",
            "memory usage: 4.9+ KB\n"
          ]
        }
      ]
    },
    {
      "cell_type": "code",
      "source": [
        "# checking duplicated data\n",
        "df.duplicated().sum()"
      ],
      "metadata": {
        "colab": {
          "base_uri": "https://localhost:8080/"
        },
        "id": "ZBBxohvR5qn-",
        "outputId": "e0bb7d8c-2976-4ef7-d70f-fa315efc0e89"
      },
      "execution_count": 10,
      "outputs": [
        {
          "output_type": "execute_result",
          "data": {
            "text/plain": [
              "0"
            ]
          },
          "metadata": {},
          "execution_count": 10
        }
      ]
    },
    {
      "cell_type": "code",
      "source": [
        "# calculating period of years\n",
        "y_max = df['Year'].max()\n",
        "y_min = df['Year'].min()\n",
        "total = y_max - y_min\n",
        "print('Last year: ',y_max )\n",
        "print('First year: ',y_min )\n",
        "print('Total years calculation ',total )"
      ],
      "metadata": {
        "colab": {
          "base_uri": "https://localhost:8080/"
        },
        "id": "SmdMb8pzHszT",
        "outputId": "3e711ff8-cbc2-4128-ef12-4e38dc902a13"
      },
      "execution_count": 11,
      "outputs": [
        {
          "output_type": "stream",
          "name": "stdout",
          "text": [
            "Last year:  2023\n",
            "First year:  1999\n",
            "Total years calculation  24\n"
          ]
        }
      ]
    },
    {
      "cell_type": "code",
      "source": [
        "df['Player'].unique()   "
      ],
      "metadata": {
        "colab": {
          "base_uri": "https://localhost:8080/"
        },
        "id": "foHBTCsptESc",
        "outputId": "4d36c8bd-44e5-47f7-ab5d-a01a71a70d12"
      },
      "execution_count": 12,
      "outputs": [
        {
          "output_type": "execute_result",
          "data": {
            "text/plain": [
              "array(['Neymar', 'Kylian Mbappe', 'Joao Felix', 'Enzo Fernandez',\n",
              "       'Philippe Coutinho', 'Antoine Griezmann', 'Jack Grealish',\n",
              "       'Romelu Lukaku', 'Ousmane Dembele', 'Paul Pogba', 'Gareth Bale',\n",
              "       'Cristiano Ronaldo', 'Eden Hazard', 'Mykhailo Mudryk', 'Antony',\n",
              "       'Gonzalo Higuain', 'Harry Maguire', 'Jadon Sancho',\n",
              "       'Virgil van Dijk', 'Luis Suarez', 'Wesley Fofana',\n",
              "       'Aurelien Tchouameni', 'James Rodriguez', 'Kepa Arrizabalaga',\n",
              "       'Lucas Hernandez', 'Nicolas Pepe', 'Alvaro Morata',\n",
              "       'Zinedine Zidane', 'Darwin Nunez', 'Matthijs de Ligt',\n",
              "       'Kevin De Bruyne', 'Frenkie de Jong', 'Dusan Vlahovic',\n",
              "       'Angel Di Maria', 'Alisson Becker', 'Arthur Melo', 'Casemiro',\n",
              "       'Kai Havertz', 'Luka Jovic', 'Rodri', 'Zlatan Ibrahimovic',\n",
              "       'Raheem Sterling', 'Ruben Dias', 'Riyad Mahrez', 'Diego Costa',\n",
              "       'Marc Cucurella', 'Alexander Isak', 'Thomas Lemar', 'Kaka',\n",
              "       'Aymeric Laporte', 'Joao Cancelo', 'Edinson Cavani',\n",
              "       'Christian Pulisic', 'Pierre-Emerick Aubameyang', 'David Luiz',\n",
              "       'Oscar', 'Achraf Hakimi', 'Miralem Pjanic', 'Erling Haaland',\n",
              "       'Naby Keita', 'Luis Figo', 'Tanguy Ndombele', 'Raphinha',\n",
              "       'Fernando Torres', 'Fred', 'Jorginho', 'Hulk', 'Ben White',\n",
              "       'Benjamin Mendy', 'Richarlison', 'John Stones', 'Kyle Walker',\n",
              "       'Ben Chilwell', 'Lisandro Martinez', 'Bruno Fernandes',\n",
              "       'Hernan Crespo', 'Ferran Torres', 'Alexandre Lacazette',\n",
              "       'Timo Werner', 'Gabriel Jesus', 'Gianluigi Buffon',\n",
              "       'Eliaquim Mangala', 'Jules Kounde', 'Alex Teixeira',\n",
              "       'Bernardo Silva', 'Fabinho', 'Eder Militao', 'Aaron Wan-Bissaka',\n",
              "       'Thomas Partey', 'Victor Osimhen', 'Anthony Martial',\n",
              "       'Gylfi Sigurdsson', 'Leroy Sane', 'Christian Vieri'], dtype=object)"
            ]
          },
          "metadata": {},
          "execution_count": 12
        }
      ]
    },
    {
      "cell_type": "code",
      "source": [
        "# checking the club that profited the most\n",
        "df.groupby('From Club')['Fee'].sum().sort_values(ascending=False)"
      ],
      "metadata": {
        "colab": {
          "base_uri": "https://localhost:8080/"
        },
        "id": "B69oFeuztJX4",
        "outputId": "c41556bf-7128-4ec5-e003-5068a3d8acfb"
      },
      "execution_count": 13,
      "outputs": [
        {
          "output_type": "execute_result",
          "data": {
            "text/plain": [
              "From Club\n",
              "Monaco                  577.50\n",
              "Benfica                 390.00\n",
              "Juventus                374.50\n",
              "Barcelona               354.00\n",
              "Liverpool               330.40\n",
              "Real Madrid             324.50\n",
              "Borussia Dortmund       317.75\n",
              "Chelsea                 288.80\n",
              "Atletico Madrid         270.00\n",
              "Manchester United       235.60\n",
              "Ajax                    225.30\n",
              "Leicester City          223.50\n",
              "Shakhtar Donetsk        220.00\n",
              "Napoli                  213.40\n",
              "Manchester City         212.50\n",
              "Everton                 200.80\n",
              "Inter                   175.00\n",
              "Tottenham               157.50\n",
              "Athletic Club           145.00\n",
              "Lille                   129.00\n",
              "Brighton                123.70\n",
              "Aston Villa             117.00\n",
              "Porto                   101.70\n",
              "Santos                   86.20\n",
              "Southampton              84.50\n",
              "Wolfsburg                75.00\n",
              "Ajax                     75.00\n",
              "Fiorentina               75.00\n",
              "Roma                     73.00\n",
              "Eintracht Frankfurt      70.00\n",
              "Bayer Leverkusen         70.00\n",
              "Inter                    69.50\n",
              "Leicester City           67.80\n",
              "Real Sociedad            65.00\n",
              "AC Milan                 65.00\n",
              "RB Leipzig               60.00\n",
              "Lyon                     60.00\n",
              "Borussia Dortmund        60.00\n",
              "Leeds United             59.00\n",
              "Shakhtar Donetsk         58.90\n",
              "Zenit                    58.60\n",
              "Parma                    55.00\n",
              "Sporting C.P.            55.00\n",
              "RB Leipzig               53.00\n",
              "Lyon                     53.00\n",
              "Parma                    52.00\n",
              "Sevilla                  50.00\n",
              "Crystal Palace           50.00\n",
              "Atletico Madrid          50.00\n",
              "Swansea City             49.20\n",
              "Lazio                    49.00\n",
              "Name: Fee, dtype: float64"
            ]
          },
          "metadata": {},
          "execution_count": 13
        }
      ]
    },
    {
      "cell_type": "code",
      "source": [
        "# checking club that invested the most\n",
        "df.groupby('To Club')['Fee'].sum().sort_values(ascending=False)"
      ],
      "metadata": {
        "colab": {
          "base_uri": "https://localhost:8080/"
        },
        "id": "MzbGgLwYtSmD",
        "outputId": "3db6a1c6-6ff8-49e6-a163-5c9d0018041e"
      },
      "execution_count": 14,
      "outputs": [
        {
          "output_type": "execute_result",
          "data": {
            "text/plain": [
              "To Club\n",
              " Chelsea              1127.50\n",
              " Barcelona             882.00\n",
              " Manchester United     871.00\n",
              " Manchester City       856.50\n",
              " Real Madrid           777.30\n",
              " PSG                   615.60\n",
              " Juventus              464.00\n",
              " Arsenal               356.65\n",
              " Liverpool             342.50\n",
              " Atletico Madrid       257.00\n",
              " Inter                 129.00\n",
              " Shanghai SIPG         118.90\n",
              " Tottenham             118.00\n",
              " Bayern Munich         116.00\n",
              " Bayern Munich          80.00\n",
              " Manchester City        75.00\n",
              " Newcastle United       65.00\n",
              " Lazio                  55.00\n",
              " Jiangsu Suning         50.00\n",
              " Napoli                 50.00\n",
              " Everton                49.20\n",
              "Name: Fee, dtype: float64"
            ]
          },
          "metadata": {},
          "execution_count": 14
        }
      ]
    },
    {
      "cell_type": "code",
      "source": [
        "# the player that most won in transfer\n",
        "df.groupby('Player')['Fee'].sum().sort_values(ascending=False)"
      ],
      "metadata": {
        "colab": {
          "base_uri": "https://localhost:8080/"
        },
        "id": "IS35ftnBvdkx",
        "outputId": "b90b534c-ddea-4520-db51-f889f6fa313f"
      },
      "execution_count": 15,
      "outputs": [
        {
          "output_type": "execute_result",
          "data": {
            "text/plain": [
              "Player\n",
              "Neymar               308.2\n",
              "Romelu Lukaku        279.8\n",
              "Cristiano Ronaldo    194.0\n",
              "Mykhailo Mudryk      170.0\n",
              "Kylian Mbappe        145.0\n",
              "                     ...  \n",
              "Jules Kounde          50.0\n",
              "Anthony Martial       49.3\n",
              "Gylfi Sigurdsson      49.2\n",
              "Christian Vieri       49.0\n",
              "Leroy Sane            49.0\n",
              "Name: Fee, Length: 94, dtype: float64"
            ]
          },
          "metadata": {},
          "execution_count": 15
        }
      ]
    },
    {
      "cell_type": "code",
      "source": [
        "# values per year all clubs\n",
        "club_year = df.pivot_table(index='Year',\n",
        "               values='Fee',\n",
        "               aggfunc='sum'\n",
        "                )\n",
        "\n",
        "club_year.sort_values(by = 'Year',ascending=False)"
      ],
      "metadata": {
        "colab": {
          "base_uri": "https://localhost:8080/",
          "height": 582
        },
        "id": "2f1w270lwJDQ",
        "outputId": "24eac723-fe56-4b49-8c23-1702df51530c"
      },
      "execution_count": 16,
      "outputs": [
        {
          "output_type": "execute_result",
          "data": {
            "text/plain": [
              "          Fee\n",
              "Year         \n",
              "2023   291.00\n",
              "2022  1064.50\n",
              "2021   490.60\n",
              "2020   582.80\n",
              "2019  1318.90\n",
              "2018   945.05\n",
              "2017   963.10\n",
              "2016   361.60\n",
              "2015   255.00\n",
              "2014   351.10\n",
              "2013   251.50\n",
              "2011    59.00\n",
              "2009   228.50\n",
              "2001   129.50\n",
              "2000   115.00\n",
              "1999    49.00"
            ],
            "text/html": [
              "\n",
              "  <div id=\"df-b9567f87-17a5-4e23-9b2c-79dfb607dc68\">\n",
              "    <div class=\"colab-df-container\">\n",
              "      <div>\n",
              "<style scoped>\n",
              "    .dataframe tbody tr th:only-of-type {\n",
              "        vertical-align: middle;\n",
              "    }\n",
              "\n",
              "    .dataframe tbody tr th {\n",
              "        vertical-align: top;\n",
              "    }\n",
              "\n",
              "    .dataframe thead th {\n",
              "        text-align: right;\n",
              "    }\n",
              "</style>\n",
              "<table border=\"1\" class=\"dataframe\">\n",
              "  <thead>\n",
              "    <tr style=\"text-align: right;\">\n",
              "      <th></th>\n",
              "      <th>Fee</th>\n",
              "    </tr>\n",
              "    <tr>\n",
              "      <th>Year</th>\n",
              "      <th></th>\n",
              "    </tr>\n",
              "  </thead>\n",
              "  <tbody>\n",
              "    <tr>\n",
              "      <th>2023</th>\n",
              "      <td>291.00</td>\n",
              "    </tr>\n",
              "    <tr>\n",
              "      <th>2022</th>\n",
              "      <td>1064.50</td>\n",
              "    </tr>\n",
              "    <tr>\n",
              "      <th>2021</th>\n",
              "      <td>490.60</td>\n",
              "    </tr>\n",
              "    <tr>\n",
              "      <th>2020</th>\n",
              "      <td>582.80</td>\n",
              "    </tr>\n",
              "    <tr>\n",
              "      <th>2019</th>\n",
              "      <td>1318.90</td>\n",
              "    </tr>\n",
              "    <tr>\n",
              "      <th>2018</th>\n",
              "      <td>945.05</td>\n",
              "    </tr>\n",
              "    <tr>\n",
              "      <th>2017</th>\n",
              "      <td>963.10</td>\n",
              "    </tr>\n",
              "    <tr>\n",
              "      <th>2016</th>\n",
              "      <td>361.60</td>\n",
              "    </tr>\n",
              "    <tr>\n",
              "      <th>2015</th>\n",
              "      <td>255.00</td>\n",
              "    </tr>\n",
              "    <tr>\n",
              "      <th>2014</th>\n",
              "      <td>351.10</td>\n",
              "    </tr>\n",
              "    <tr>\n",
              "      <th>2013</th>\n",
              "      <td>251.50</td>\n",
              "    </tr>\n",
              "    <tr>\n",
              "      <th>2011</th>\n",
              "      <td>59.00</td>\n",
              "    </tr>\n",
              "    <tr>\n",
              "      <th>2009</th>\n",
              "      <td>228.50</td>\n",
              "    </tr>\n",
              "    <tr>\n",
              "      <th>2001</th>\n",
              "      <td>129.50</td>\n",
              "    </tr>\n",
              "    <tr>\n",
              "      <th>2000</th>\n",
              "      <td>115.00</td>\n",
              "    </tr>\n",
              "    <tr>\n",
              "      <th>1999</th>\n",
              "      <td>49.00</td>\n",
              "    </tr>\n",
              "  </tbody>\n",
              "</table>\n",
              "</div>\n",
              "      <button class=\"colab-df-convert\" onclick=\"convertToInteractive('df-b9567f87-17a5-4e23-9b2c-79dfb607dc68')\"\n",
              "              title=\"Convert this dataframe to an interactive table.\"\n",
              "              style=\"display:none;\">\n",
              "        \n",
              "  <svg xmlns=\"http://www.w3.org/2000/svg\" height=\"24px\"viewBox=\"0 0 24 24\"\n",
              "       width=\"24px\">\n",
              "    <path d=\"M0 0h24v24H0V0z\" fill=\"none\"/>\n",
              "    <path d=\"M18.56 5.44l.94 2.06.94-2.06 2.06-.94-2.06-.94-.94-2.06-.94 2.06-2.06.94zm-11 1L8.5 8.5l.94-2.06 2.06-.94-2.06-.94L8.5 2.5l-.94 2.06-2.06.94zm10 10l.94 2.06.94-2.06 2.06-.94-2.06-.94-.94-2.06-.94 2.06-2.06.94z\"/><path d=\"M17.41 7.96l-1.37-1.37c-.4-.4-.92-.59-1.43-.59-.52 0-1.04.2-1.43.59L10.3 9.45l-7.72 7.72c-.78.78-.78 2.05 0 2.83L4 21.41c.39.39.9.59 1.41.59.51 0 1.02-.2 1.41-.59l7.78-7.78 2.81-2.81c.8-.78.8-2.07 0-2.86zM5.41 20L4 18.59l7.72-7.72 1.47 1.35L5.41 20z\"/>\n",
              "  </svg>\n",
              "      </button>\n",
              "      \n",
              "  <style>\n",
              "    .colab-df-container {\n",
              "      display:flex;\n",
              "      flex-wrap:wrap;\n",
              "      gap: 12px;\n",
              "    }\n",
              "\n",
              "    .colab-df-convert {\n",
              "      background-color: #E8F0FE;\n",
              "      border: none;\n",
              "      border-radius: 50%;\n",
              "      cursor: pointer;\n",
              "      display: none;\n",
              "      fill: #1967D2;\n",
              "      height: 32px;\n",
              "      padding: 0 0 0 0;\n",
              "      width: 32px;\n",
              "    }\n",
              "\n",
              "    .colab-df-convert:hover {\n",
              "      background-color: #E2EBFA;\n",
              "      box-shadow: 0px 1px 2px rgba(60, 64, 67, 0.3), 0px 1px 3px 1px rgba(60, 64, 67, 0.15);\n",
              "      fill: #174EA6;\n",
              "    }\n",
              "\n",
              "    [theme=dark] .colab-df-convert {\n",
              "      background-color: #3B4455;\n",
              "      fill: #D2E3FC;\n",
              "    }\n",
              "\n",
              "    [theme=dark] .colab-df-convert:hover {\n",
              "      background-color: #434B5C;\n",
              "      box-shadow: 0px 1px 3px 1px rgba(0, 0, 0, 0.15);\n",
              "      filter: drop-shadow(0px 1px 2px rgba(0, 0, 0, 0.3));\n",
              "      fill: #FFFFFF;\n",
              "    }\n",
              "  </style>\n",
              "\n",
              "      <script>\n",
              "        const buttonEl =\n",
              "          document.querySelector('#df-b9567f87-17a5-4e23-9b2c-79dfb607dc68 button.colab-df-convert');\n",
              "        buttonEl.style.display =\n",
              "          google.colab.kernel.accessAllowed ? 'block' : 'none';\n",
              "\n",
              "        async function convertToInteractive(key) {\n",
              "          const element = document.querySelector('#df-b9567f87-17a5-4e23-9b2c-79dfb607dc68');\n",
              "          const dataTable =\n",
              "            await google.colab.kernel.invokeFunction('convertToInteractive',\n",
              "                                                     [key], {});\n",
              "          if (!dataTable) return;\n",
              "\n",
              "          const docLinkHtml = 'Like what you see? Visit the ' +\n",
              "            '<a target=\"_blank\" href=https://colab.research.google.com/notebooks/data_table.ipynb>data table notebook</a>'\n",
              "            + ' to learn more about interactive tables.';\n",
              "          element.innerHTML = '';\n",
              "          dataTable['output_type'] = 'display_data';\n",
              "          await google.colab.output.renderOutput(dataTable, element);\n",
              "          const docLink = document.createElement('div');\n",
              "          docLink.innerHTML = docLinkHtml;\n",
              "          element.appendChild(docLink);\n",
              "        }\n",
              "      </script>\n",
              "    </div>\n",
              "  </div>\n",
              "  "
            ]
          },
          "metadata": {},
          "execution_count": 16
        }
      ]
    },
    {
      "cell_type": "code",
      "source": [
        "# 10 years won club transfers\n",
        "club_year.sort_values(by = 'Year',ascending=False).head(10).plot(kind='bar', color='green')\n",
        "plt.ylabel('In Million Euro')\n",
        "plt.title('10 most values by year')"
      ],
      "metadata": {
        "colab": {
          "base_uri": "https://localhost:8080/",
          "height": 510
        },
        "id": "DBqaJogY1k_9",
        "outputId": "ab5d8c84-ee1e-4863-f8aa-5f526816f9c3"
      },
      "execution_count": 17,
      "outputs": [
        {
          "output_type": "execute_result",
          "data": {
            "text/plain": [
              "Text(0.5, 1.0, '10 most values by year')"
            ]
          },
          "metadata": {},
          "execution_count": 17
        },
        {
          "output_type": "display_data",
          "data": {
            "text/plain": [
              "<Figure size 640x480 with 1 Axes>"
            ],
            "image/png": "[encoded data removed]"
          },
          "metadata": {}
        }
      ]
    },
    {
      "cell_type": "code",
      "source": [
        "# checking the club that profited the most\n",
        "gain_club = df.groupby('From Club')['Fee'].sum().sort_values(ascending=False)\n",
        "gain_club.head(10).plot(kind='bar')\n",
        "plt.ylabel('In Million Euro')\n",
        "plt.title('10 clubs profited the most')"
      ],
      "metadata": {
        "id": "BxnwmyL07Zwc",
        "colab": {
          "base_uri": "https://localhost:8080/",
          "height": 613
        },
        "outputId": "cdbc081f-6e90-4c68-dc8d-40f6fb412f33"
      },
      "execution_count": 18,
      "outputs": [
        {
          "output_type": "execute_result",
          "data": {
            "text/plain": [
              "Text(0.5, 1.0, '10 clubs profited the most')"
            ]
          },
          "metadata": {},
          "execution_count": 18
        },
        {
          "output_type": "display_data",
          "data": {
            "text/plain": [
              "<Figure size 640x480 with 1 Axes>"
            ],
            "image/png": "[encoded data removed]"
          },
          "metadata": {}
        }
      ]
    },
    {
      "cell_type": "code",
      "source": [
        "# checking the club invested the most\n",
        "gain_club = df.groupby('To Club')['Fee'].sum().sort_values(ascending=False)\n",
        "gain_club.head(10).plot(kind='bar',color='Orange')\n",
        "plt.ylabel('In Million Euro')\n",
        "plt.title('10 clubs invested the most')"
      ],
      "metadata": {
        "colab": {
          "base_uri": "https://localhost:8080/",
          "height": 610
        },
        "id": "43YXhzc0CByd",
        "outputId": "73ebc286-1e51-4c9e-85e9-01ec349ce764"
      },
      "execution_count": 19,
      "outputs": [
        {
          "output_type": "execute_result",
          "data": {
            "text/plain": [
              "Text(0.5, 1.0, '10 clubs invested the most')"
            ]
          },
          "metadata": {},
          "execution_count": 19
        },
        {
          "output_type": "display_data",
          "data": {
            "text/plain": [
              "<Figure size 640x480 with 1 Axes>"
            ],
            "image/png": "[encoded data removed]"
          },
          "metadata": {}
        }
      ]
    },
    {
      "cell_type": "code",
      "source": [
        "# The 10 Players best expensive transfers\n",
        "player_expensive = df.groupby('Player')['Fee'].sum().sort_values(ascending=False).head(10)\n",
        "player_expensive.plot(kind='bar', color='grey')\n",
        "plt.ylabel('In Million Euro')\n",
        "plt.title('10 Players most expensive transfers')"
      ],
      "metadata": {
        "colab": {
          "base_uri": "https://localhost:8080/",
          "height": 597
        },
        "id": "B9AiIJrOCdYf",
        "outputId": "9ec4439e-234d-46c2-b3c5-7dd5e8a062f3"
      },
      "execution_count": 20,
      "outputs": [
        {
          "output_type": "execute_result",
          "data": {
            "text/plain": [
              "Text(0.5, 1.0, '10 Players most expensive transfers')"
            ]
          },
          "metadata": {},
          "execution_count": 20
        },
        {
          "output_type": "display_data",
          "data": {
            "text/plain": [
              "<Figure size 640x480 with 1 Axes>"
            ],
            "image/png": "[encoded data removed]"
          },
          "metadata": {}
        }
      ]
    },
    {
      "cell_type": "code",
      "source": [
        "#Checking the distribution\n",
        "club_year['Fee'].describe()"
      ],
      "metadata": {
        "colab": {
          "base_uri": "https://localhost:8080/"
        },
        "id": "dxAx4VINFRhX",
        "outputId": "14b4043a-9dd1-4980-fda8-30cf8237d559"
      },
      "execution_count": 27,
      "outputs": [
        {
          "output_type": "execute_result",
          "data": {
            "text/plain": [
              "count      16.000000\n",
              "mean      466.009375\n",
              "std       396.158259\n",
              "min        49.000000\n",
              "25%       203.750000\n",
              "50%       321.050000\n",
              "75%       673.362500\n",
              "max      1318.900000\n",
              "Name: Fee, dtype: float64"
            ]
          },
          "metadata": {},
          "execution_count": 27
        }
      ]
    }
  ]
}
